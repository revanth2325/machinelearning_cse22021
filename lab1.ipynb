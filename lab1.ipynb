{
 "cells": [
  {
   "cell_type": "code",
   "execution_count": 1,
   "id": "c551fd8b-77c0-4e92-aca1-b2f8fe1a1cab",
   "metadata": {},
   "outputs": [
    {
     "name": "stdout",
     "output_type": "stream",
     "text": [
      "The number of pairs that sum up to 10 is: 2\n"
     ]
    }
   ],
   "source": [
    "def count_pairs_sum_to_10(numbers):\n",
    "    count = 0\n",
    "    for i in range(len(numbers)):\n",
    "        for j in range(i+1, len(numbers)):\n",
    "            if numbers[i] + numbers[j] == 10:\n",
    "                count += 1\n",
    "    return count\n",
    "\n",
    "# Example usage\n",
    "numbers = [2, 7, 4, 1, 3, 6]\n",
    "result = count_pairs_sum_to_10(numbers)\n",
    "print(f\"The number of pairs that sum up to 10 is: {result}\")\n"
   ]
  },
  {
   "cell_type": "code",
   "execution_count": 1,
   "id": "dc06c57b-6e95-46ad-8403-85d1956842e8",
   "metadata": {},
   "outputs": [
    {
     "name": "stdout",
     "output_type": "stream",
     "text": [
      "8\n"
     ]
    }
   ],
   "source": [
    "def calculate_range(numbers):\n",
    "    if len(numbers) < 3:\n",
    "        return \"Range determination not possible\"\n",
    "   \n",
    "    min_value = min(numbers)\n",
    "    max_value = max(numbers)\n",
    "   \n",
    "    range_value = max_value - min_value\n",
    "   \n",
    "    return range_value\n",
    "\n",
    "# Example usage\n",
    "numbers = [5, 3, 8, 1, 0, 4]\n",
    "result = calculate_range(numbers)\n",
    "print(result)"
   ]
  },
  {
   "cell_type": "code",
   "execution_count": 2,
   "id": "45345b0a-c9e8-4d73-99c1-d1aaafb6f22b",
   "metadata": {},
   "outputs": [
    {
     "name": "stdout",
     "output_type": "stream",
     "text": [
      "[[ 37  54]\n",
      " [ 81 118]]\n"
     ]
    }
   ],
   "source": [
    "import numpy as np\n",
    "def matrix_power(list, n):\n",
    "    if n<1:\n",
    "        return \"m is a positive num\"\n",
    "    result = np.linalg.matrix_power(list,n)\n",
    "    return result\n",
    "\n",
    "list=np.array([[1,2], [3,4]])\n",
    "n=3\n",
    "result = matrix_power(list,n)\n",
    "print(result)"
   ]
  },
  {
   "cell_type": "code",
   "execution_count": 3,
   "id": "39ef069c-fa96-4225-bd07-b373f9c68b55",
   "metadata": {},
   "outputs": [
    {
     "name": "stdout",
     "output_type": "stream",
     "text": [
      "The maximum occurring character is 'p' with count 3.\n"
     ]
    }
   ],
   "source": [
    "def highest_occurrence_char(string):\n",
    "    char_count = {}\n",
    "   \n",
    "    for char in string:\n",
    "        if char.isalpha():\n",
    "            char = char.lower()\n",
    "            if char in char_count:\n",
    "                char_count[char] += 1\n",
    "            else:\n",
    "                char_count[char] = 1\n",
    "\n",
    "    max_char = max(char_count, key=char_count.get)\n",
    "    max_count = char_count[max_char]\n",
    "    return max_char, max_count\n",
    "\n",
    "string = \"hippopotamus\"\n",
    "max_char, max_count = highest_occurrence_char(string)\n",
    "print(f\"The maximum occurring character is '{max_char}' with count {max_count}.\")"
   ]
  }
 ],
 "metadata": {
  "kernelspec": {
   "display_name": "Python 3 (ipykernel)",
   "language": "python",
   "name": "python3"
  },
  "language_info": {
   "codemirror_mode": {
    "name": "ipython",
    "version": 3
   },
   "file_extension": ".py",
   "mimetype": "text/x-python",
   "name": "python",
   "nbconvert_exporter": "python",
   "pygments_lexer": "ipython3",
   "version": "3.12.4"
  }
 },
 "nbformat": 4,
 "nbformat_minor": 5
}
