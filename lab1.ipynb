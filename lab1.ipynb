{
 "cells": [
  {
   "cell_type": "code",
   "execution_count": 1,
   "id": "c551fd8b-77c0-4e92-aca1-b2f8fe1a1cab",
   "metadata": {},
   "outputs": [
    {
     "name": "stdout",
     "output_type": "stream",
     "text": [
      "The number of pairs that sum up to 10 is: 2\n"
     ]
    }
   ],
   "source": [
    "def count_pairs_sum_to_10(numbers):\n",
    "    count = 0\n",
    "    for i in range(len(numbers)):\n",
    "        for j in range(i+1, len(numbers)):\n",
    "            if numbers[i] + numbers[j] == 10:\n",
    "                count += 1\n",
    "    return count\n",
    "\n",
    "# Example usage\n",
    "numbers = [2, 7, 4, 1, 3, 6]\n",
    "result = count_pairs_sum_to_10(numbers)\n",
    "print(f\"The number of pairs that sum up to 10 is: {result}\")\n"
   ]
  },
  {
   "cell_type": "code",
   "execution_count": null,
   "id": "dc06c57b-6e95-46ad-8403-85d1956842e8",
   "metadata": {},
   "outputs": [],
   "source": []
  }
 ],
 "metadata": {
  "kernelspec": {
   "display_name": "Python 3 (ipykernel)",
   "language": "python",
   "name": "python3"
  },
  "language_info": {
   "codemirror_mode": {
    "name": "ipython",
    "version": 3
   },
   "file_extension": ".py",
   "mimetype": "text/x-python",
   "name": "python",
   "nbconvert_exporter": "python",
   "pygments_lexer": "ipython3",
   "version": "3.12.4"
  }
 },
 "nbformat": 4,
 "nbformat_minor": 5
}
